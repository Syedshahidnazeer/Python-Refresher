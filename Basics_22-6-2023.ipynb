{
 "cells": [
  {
   "cell_type": "code",
   "execution_count": 1,
   "metadata": {},
   "outputs": [],
   "source": [
    "# Python Basics With Strings\n",
    "\n",
    "my_string=\"python is my favourite programming language\"\n",
    "string_1=\"my dream is to crack a respectful designation/role in the data field\"\n",
    "string_2=\"There are many roles in the field of data such as data analyst, data scientist, machine learning engineer, artificial intelligence expert, ....\""
   ]
  },
  {
   "cell_type": "code",
   "execution_count": 3,
   "metadata": {},
   "outputs": [
    {
     "data": {
      "text/plain": [
       "'my dream is to crack a respectful designation/role in the data fieldThere are many roles in the field of data such as data analyst, data scientist, machine learning engineer, artificial intelligence expert, ....'"
      ]
     },
     "execution_count": 3,
     "metadata": {},
     "output_type": "execute_result"
    }
   ],
   "source": [
    "# performing concatenation\n",
    "string_3=string_1 + string_2\n",
    "string_3"
   ]
  },
  {
   "cell_type": "code",
   "execution_count": 15,
   "metadata": {},
   "outputs": [
    {
     "name": "stdout",
     "output_type": "stream",
     "text": [
      "python is my favourite programming languagepython is my favourite programming languagepython is my favourite programming languagepython is my favourite programming languagepython is my favourite programming language\n"
     ]
    }
   ],
   "source": [
    "print(my_string*5)"
   ]
  },
  {
   "attachments": {},
   "cell_type": "markdown",
   "metadata": {},
   "source": [
    "# Operators in python\n",
    "\n",
    "Operators       Operation                   Example\n",
    "\n",
    "1)**            Exponent                    2 ** 3=8\n",
    "2)%             Modulus/Remainder           22 % 8=6\n",
    "3)//            Integer Division            22 // 8=2\n",
    "4)/             Division                    22 / 8=2.75\n",
    "5)*             Multiplication              3 * 3=9\n",
    "6)-             Subtraction                 5 - 2=3\n",
    "7)+             Addition                    2 + 2=4"
   ]
  },
  {
   "cell_type": "code",
   "execution_count": 18,
   "metadata": {},
   "outputs": [
    {
     "name": "stdout",
     "output_type": "stream",
     "text": [
      "Addition 17\n",
      "Subtraction -1\n",
      "Multiplication 72\n",
      "Division 0.8888888888888888\n",
      "Integer Division 0\n",
      "Modulus/Remainder 8\n",
      "Exponent 134217728\n"
     ]
    }
   ],
   "source": [
    "a = int(input(\"enter your 1st number\"))\n",
    "b = int(input(\"enter your 2nd number\"))\n",
    "\n",
    "addition=a+b\n",
    "subtraction=a-b\n",
    "multipication=a*b\n",
    "division=a/b\n",
    "integer_division=a//b\n",
    "modulus=a%b\n",
    "exponent=a ** b\n",
    "# performing mathematical operation using operators\n",
    "print(\"Addition\",addition)\n",
    "print(\"Subtraction\",subtraction)\n",
    "print(\"Multiplication\",multipication)\n",
    "print(\"Division\",division)\n",
    "print(\"Integer Division\",integer_division)\n",
    "print(\"Modulus/Remainder\",modulus)\n",
    "print(\"Exponent\",exponent)"
   ]
  },
  {
   "cell_type": "code",
   "execution_count": 21,
   "metadata": {},
   "outputs": [
    {
     "name": "stdout",
     "output_type": "stream",
     "text": [
      "Hi Welcome to python basics by ssn ('syed', 'shahid', 'nazeer') have a good day\n"
     ]
    }
   ],
   "source": [
    "# input function and builtin string functions\n",
    "first_name= input(\"please enter your first name\")\n",
    "middle_name= input(\"please enter your middle name\")\n",
    "last_name=input(\"please enter your last name\")\n",
    "print(f\"Hi Welcome to python basics by ssn {last_name,first_name,middle_name} have a good day\")"
   ]
  },
  {
   "cell_type": "code",
   "execution_count": 23,
   "metadata": {},
   "outputs": [
    {
     "name": "stdout",
     "output_type": "stream",
     "text": [
      "6\n",
      "6\n",
      "4\n",
      "total length of your name is 16\n"
     ]
    }
   ],
   "source": [
    "# using length function to check the number of letters in the words\n",
    "print(len(first_name))\n",
    "print(len(middle_name))\n",
    "print(len(last_name))\n",
    "print(\"total length of your name is\",len(first_name)+len(middle_name)+len(last_name))"
   ]
  },
  {
   "cell_type": "code",
   "execution_count": 26,
   "metadata": {},
   "outputs": [
    {
     "name": "stdout",
     "output_type": "stream",
     "text": [
      "23\n",
      "45\n",
      "65\n",
      "32\n",
      "25\n",
      "35\n"
     ]
    }
   ],
   "source": [
    "# Using filter function with lists\n",
    "ages=[11,23,45,65,32,25,35]\n",
    "\n",
    "def rule(x):\n",
    "    if x<18:\n",
    "        return False\n",
    "    else:\n",
    "        return True\n",
    "\n",
    "adults=filter(rule,ages)\n",
    "\n",
    "for x in adults:\n",
    "    print(x)"
   ]
  },
  {
   "cell_type": "code",
   "execution_count": 28,
   "metadata": {},
   "outputs": [
    {
     "name": "stdout",
     "output_type": "stream",
     "text": [
      "where\n",
      "the\n",
      "is\n",
      "my\n",
      "refund\n"
     ]
    }
   ],
   "source": [
    "# Using filter function can help you a lot in nlp projects\n",
    "\n",
    "comment=[\"where\",\"the\",\"*cussword*\",\"is\",\"my\",\"refund\"]\n",
    "\n",
    "def remove(words):\n",
    "    if words == \"*cussword*\":\n",
    "        return False\n",
    "    else:\n",
    "        return True\n",
    "\n",
    "filters=filter(remove,comment)\n",
    "\n",
    "for words in filters:\n",
    "    print(words)\n",
    "\n",
    "# basically we will be using affin package to do this process but we can do this also but its time consuming"
   ]
  },
  {
   "cell_type": "code",
   "execution_count": 32,
   "metadata": {},
   "outputs": [
    {
     "name": "stdout",
     "output_type": "stream",
     "text": [
      "Addition 11\n",
      "Subtraction -1\n",
      "Multiplication 30\n",
      "Division 0.8333333333333334\n",
      "Integer Division 0\n",
      "Modulus/Remainder 5\n",
      "Exponent 15625\n",
      "Addition 16\n",
      "Subtraction -2\n",
      "Multiplication 63\n",
      "Division 0.7777777777777778\n",
      "Integer Division 0\n",
      "Modulus/Remainder 7\n",
      "Exponent 40353607\n"
     ]
    }
   ],
   "source": [
    "# Function creation and calling\n",
    "def add_numbers(a,b):\n",
    "    addition=a+b\n",
    "    subtraction=a-b\n",
    "    multipication=a*b\n",
    "    division=a/b\n",
    "    integer_division=a//b\n",
    "    modulus=a%b\n",
    "    exponent=a ** b\n",
    "\n",
    "    # performing mathematical operation using operators\n",
    "    print(\"Addition\",addition)\n",
    "    print(\"Subtraction\",subtraction)\n",
    "    print(\"Multiplication\",multipication)\n",
    "    print(\"Division\",division)\n",
    "    print(\"Integer Division\",integer_division)\n",
    "    print(\"Modulus/Remainder\",modulus)\n",
    "    print(\"Exponent\",exponent)\n",
    "\n",
    "add_numbers(5,6)\n",
    "add_numbers(7,9)"
   ]
  },
  {
   "cell_type": "code",
   "execution_count": null,
   "metadata": {},
   "outputs": [],
   "source": []
  },
  {
   "cell_type": "code",
   "execution_count": null,
   "metadata": {},
   "outputs": [],
   "source": []
  },
  {
   "cell_type": "code",
   "execution_count": null,
   "metadata": {},
   "outputs": [],
   "source": []
  },
  {
   "cell_type": "code",
   "execution_count": null,
   "metadata": {},
   "outputs": [],
   "source": []
  },
  {
   "cell_type": "code",
   "execution_count": null,
   "metadata": {},
   "outputs": [],
   "source": []
  },
  {
   "cell_type": "code",
   "execution_count": null,
   "metadata": {},
   "outputs": [],
   "source": []
  },
  {
   "cell_type": "code",
   "execution_count": null,
   "metadata": {},
   "outputs": [],
   "source": []
  },
  {
   "cell_type": "code",
   "execution_count": null,
   "metadata": {},
   "outputs": [],
   "source": []
  },
  {
   "cell_type": "code",
   "execution_count": null,
   "metadata": {},
   "outputs": [],
   "source": []
  }
 ],
 "metadata": {
  "kernelspec": {
   "display_name": "Python 3",
   "language": "python",
   "name": "python3"
  },
  "language_info": {
   "codemirror_mode": {
    "name": "ipython",
    "version": 3
   },
   "file_extension": ".py",
   "mimetype": "text/x-python",
   "name": "python",
   "nbconvert_exporter": "python",
   "pygments_lexer": "ipython3",
   "version": "3.10.11"
  },
  "orig_nbformat": 4
 },
 "nbformat": 4,
 "nbformat_minor": 2
}
