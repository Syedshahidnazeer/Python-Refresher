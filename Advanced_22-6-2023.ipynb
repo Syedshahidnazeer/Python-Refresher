{
 "cells": [
  {
   "cell_type": "code",
   "execution_count": 3,
   "metadata": {},
   "outputs": [
    {
     "data": {
      "text/plain": [
       "True"
      ]
     },
     "execution_count": 3,
     "metadata": {},
     "output_type": "execute_result"
    }
   ],
   "source": [
    "# Finding the uppercase letters from text\n",
    "text=\"abcdEFGH\"\n",
    "any(c for c in text if c.isupper())"
   ]
  },
  {
   "cell_type": "code",
   "execution_count": 2,
   "metadata": {},
   "outputs": [
    {
     "name": "stdout",
     "output_type": "stream",
     "text": [
      "False\n",
      "True\n",
      "True\n"
     ]
    }
   ],
   "source": [
    "# Finding the List Contains text or numbers in total\n",
    "list_all=[\"Android\",\"Ios\",\"Windows\",\"Linux\",2.0,9]\n",
    "print(all(isinstance(item,str) for item in list_all))\n",
    "list_os=[\"Android\",\"Ios\",\"Windows\",\"Linux\"]\n",
    "print(all(isinstance(item,str) for item in list_os))\n",
    "list_v=[2,9]\n",
    "print(all(isinstance(item,int) for item in list_v))"
   ]
  },
  {
   "cell_type": "code",
   "execution_count": 1,
   "metadata": {},
   "outputs": [
    {
     "name": "stdout",
     "output_type": "stream",
     "text": [
      "['apple', 'orange']\n"
     ]
    }
   ],
   "source": [
    "# Finding an Iterable function and using filte method\n",
    "def get_fruit(val: str):\n",
    "    fruits =[\"apple\",\"orange\",\"grape\",\"banana\",\"mango\"]\n",
    "    if val in fruits:\n",
    "        return True\n",
    "    else:\n",
    "        return False\n",
    "\n",
    "items=[\"chair\",\"coca cola\",\"pepsi\",\"apple\",\"orange\",\"tomato\",\"lemon\"]\n",
    "fruit=filter(get_fruit, items)\n",
    "print(list(fruit))"
   ]
  },
  {
   "cell_type": "code",
   "execution_count": 4,
   "metadata": {},
   "outputs": [
    {
     "data": {
      "text/plain": [
       "['1', '2', '3', '4', '5']"
      ]
     },
     "execution_count": 4,
     "metadata": {},
     "output_type": "execute_result"
    }
   ],
   "source": [
    "nums=[1,2,3,4,5]\n",
    "list(map(str, nums))"
   ]
  },
  {
   "cell_type": "code",
   "execution_count": 6,
   "metadata": {},
   "outputs": [
    {
     "data": {
      "text/plain": [
       "[2, 4, 6, 8, 10]"
      ]
     },
     "execution_count": 6,
     "metadata": {},
     "output_type": "execute_result"
    }
   ],
   "source": [
    "def multiply_by_two(num: float):\n",
    "    return num*2\n",
    "\n",
    "list(map(multiply_by_two, nums))"
   ]
  },
  {
   "cell_type": "code",
   "execution_count": 7,
   "metadata": {},
   "outputs": [
    {
     "data": {
      "text/plain": [
       "'attend party'"
      ]
     },
     "execution_count": 7,
     "metadata": {},
     "output_type": "execute_result"
    }
   ],
   "source": [
    "import random\n",
    "to_do_tonight=[\"stay at home\",\"attend party\",\"do exercise\"]\n",
    "random.choice(to_do_tonight)"
   ]
  },
  {
   "cell_type": "code",
   "execution_count": 9,
   "metadata": {},
   "outputs": [
    {
     "data": {
      "text/plain": [
       "'bangalore'"
      ]
     },
     "execution_count": 9,
     "metadata": {},
     "output_type": "execute_result"
    }
   ],
   "source": [
    "import random\n",
    "place=[\"hyderabad\",\"bangalore\",\"kadapa\",\"pune\"]\n",
    "random.choice(place)"
   ]
  },
  {
   "cell_type": "code",
   "execution_count": 8,
   "metadata": {},
   "outputs": [
    {
     "data": {
      "text/plain": [
       "'Maths'"
      ]
     },
     "execution_count": 8,
     "metadata": {},
     "output_type": "execute_result"
    }
   ],
   "source": [
    "import random\n",
    "First_Course=[\"Excel\",\"Python\",\"Power-BI\",\"Tableau\",\"Mysql\",\"Maths\"]\n",
    "random.choice(First_Course)"
   ]
  },
  {
   "cell_type": "code",
   "execution_count": 18,
   "metadata": {},
   "outputs": [
    {
     "data": {
      "text/plain": [
       "6"
      ]
     },
     "execution_count": 18,
     "metadata": {},
     "output_type": "execute_result"
    }
   ],
   "source": [
    "import random\n",
    "import numpy as np\n",
    "nums=[1,2,3,45,6,7,8,9,1,0]\n",
    "random.choice(nums)"
   ]
  },
  {
   "cell_type": "code",
   "execution_count": 21,
   "metadata": {},
   "outputs": [],
   "source": [
    "# Finding max values in python list\n",
    "import heapq\n",
    "import random\n",
    "from timeit import timeit\n",
    "\n",
    "random.seed(0)\n",
    "l=random.sample(range(0, 10000),10000)\n",
    "\n",
    "def get_n_max_sorting(l: list,n:int):\n",
    "    l=sorted(l, reverse=True)\n",
    "    return l[:n]\n",
    "\n",
    "def get_n_max_heapq(l: list,n:int):\n",
    "    return heapq.nlargest(n,l)"
   ]
  },
  {
   "cell_type": "code",
   "execution_count": 24,
   "metadata": {},
   "outputs": [
    {
     "name": "stdout",
     "output_type": "stream",
     "text": [
      "run 1000 experiments. Using heapq is 2.194 timesfaster than using sorting algorithm\n"
     ]
    }
   ],
   "source": [
    "expSize=1000\n",
    "n=100\n",
    "time_sorting = timeit(\"get_n_max_sorting(l,n)\", number=expSize,globals=globals())\n",
    "time_heapq= timeit(\"get_n_max_heapq(l,n)\", number=expSize,globals=globals())\n",
    "ratio=round(time_sorting/time_heapq,3)\n",
    "print(f\"run {expSize} experiments. Using heapq is {ratio} times\"\n",
    "\"faster than using sorting algorithm\")"
   ]
  },
  {
   "cell_type": "code",
   "execution_count": 26,
   "metadata": {},
   "outputs": [
    {
     "name": "stdout",
     "output_type": "stream",
     "text": [
      "[1, 2, 3, 4, 5, 'done']\n"
     ]
    }
   ],
   "source": [
    "# appending new stings/integers to list\n",
    "l1=[1,2,3,4,5]\n",
    "l2=l1\n",
    "l2.append(\"done\")\n",
    "print(l2)"
   ]
  },
  {
   "cell_type": "code",
   "execution_count": 27,
   "metadata": {},
   "outputs": [
    {
     "data": {
      "text/plain": [
       "[1, 2, 3, 4, 5, 'done', 'one down']"
      ]
     },
     "execution_count": 27,
     "metadata": {},
     "output_type": "execute_result"
    }
   ],
   "source": [
    "l3=l1.copy()\n",
    "l3.append(\"one down\")\n",
    "l3"
   ]
  },
  {
   "cell_type": "code",
   "execution_count": 29,
   "metadata": {},
   "outputs": [
    {
     "name": "stdout",
     "output_type": "stream",
     "text": [
      "0 a\n",
      "1 b\n",
      "2 c\n",
      "3 d\n",
      "4 e\n",
      "0 a\n",
      "1 b\n",
      "2 c\n",
      "3 d\n",
      "4 e\n"
     ]
    }
   ],
   "source": [
    "arr=[\"a\",\"b\",\"c\",\"d\",\"e\"]\n",
    "\n",
    "# Intead of this method\n",
    "for i in range(len(arr)):\n",
    "    print(i,arr[i])\n",
    "\n",
    "# Use this method instead\n",
    "for i,val in enumerate(arr):\n",
    "    print(i,val)"
   ]
  },
  {
   "cell_type": "code",
   "execution_count": 31,
   "metadata": {},
   "outputs": [
    {
     "name": "stdout",
     "output_type": "stream",
     "text": [
      "[1, 2, 3, 4, [5, 6]]\n",
      "[1, 2, 3, 4, 5, 6]\n"
     ]
    }
   ],
   "source": [
    "# append and extend functions\n",
    "a=[1,2,3,4]\n",
    "a.append([5,6])\n",
    "print(a)\n",
    "b=[1,2,3,4]\n",
    "b.extend([5,6])\n",
    "print(b)"
   ]
  },
  {
   "cell_type": "code",
   "execution_count": 35,
   "metadata": {},
   "outputs": [
    {
     "name": "stdout",
     "output_type": "stream",
     "text": [
      "['pandas', 'numpy', 'statsmodel']\n"
     ]
    },
    {
     "data": {
      "text/plain": [
       "['pandas',\n",
       " 'sklearn',\n",
       " 'statsmodel',\n",
       " 'streamlit',\n",
       " 'django',\n",
       " 'flask',\n",
       " 'numpy',\n",
       " 'seaborn',\n",
       " 'matplotlib',\n",
       " 'scipy']"
      ]
     },
     "execution_count": 35,
     "metadata": {},
     "output_type": "execute_result"
    }
   ],
   "source": [
    "# intersection and union operations on setd\n",
    "requirement1=[\"numpy\",\"pandas\",\"matplotlib\",\"seaborn\",\"statsmodel\"]\n",
    "requirement2=[\"pandas\",\"numpy\",\"statsmodel\",\"sklearn\",\"scipy\"]\n",
    "deployment=[\"streamlit\",\"flask\",\"django\"]\n",
    "\n",
    "intersection=set.intersection(set(requirement1),set(requirement2))\n",
    "print(list(intersection))\n",
    "\n",
    "union=set.union(set(requirement1),set(requirement2),set(deployment))\n",
    "list(union)\n"
   ]
  },
  {
   "cell_type": "code",
   "execution_count": 40,
   "metadata": {},
   "outputs": [
    {
     "name": "stdout",
     "output_type": "stream",
     "text": [
      "{'seaborn', 'matplotlib'}\n",
      "{'sklearn', 'scipy'}\n"
     ]
    }
   ],
   "source": [
    "# find elements in requirement1 not in requirement2\n",
    "difference1=set(requirement1).difference(set(requirement2))\n",
    "print(difference1)\n",
    "\n",
    "# find elements in requirement2 not in requirement1\n",
    "difference2=set(requirement2).difference(set(requirement1))\n",
    "print(difference2)"
   ]
  },
  {
   "cell_type": "code",
   "execution_count": 41,
   "metadata": {},
   "outputs": [
    {
     "name": "stdout",
     "output_type": "stream",
     "text": [
      "the courses that needed to be completed Excel,Python,Power-BI,Tableau,Mysql,Maths to become an data professional are\n"
     ]
    }
   ],
   "source": [
    "# learn to use join method for lists\n",
    "# most helpful while doing NLP\n",
    "First_Course=[\"Excel\",\"Python\",\"Power-BI\",\"Tableau\",\"Mysql\",\"Maths\"]\n",
    "courses=\",\".join(First_Course)\n",
    "\n",
    "print(f\"the courses that needed to be completed {courses} to become an data professional are\")"
   ]
  },
  {
   "cell_type": "code",
   "execution_count": 42,
   "metadata": {},
   "outputs": [
    {
     "data": {
      "text/plain": [
       "[(1, 'Excel'),\n",
       " (2, 'Python'),\n",
       " (3, 'Power-BI'),\n",
       " (4, 'Tableau'),\n",
       " (5, 'Mysql'),\n",
       " (6, 'Maths')]"
      ]
     },
     "execution_count": 42,
     "metadata": {},
     "output_type": "execute_result"
    }
   ],
   "source": [
    "# Take two different lists and combine\n",
    "nums=[1,2,3,4,5,6]\n",
    "First_Course=[\"Excel\",\"Python\",\"Power-BI\",\"Tableau\",\"Mysql\",\"Maths\"]\n",
    "combination=list(zip(nums,First_Course))\n",
    "combination"
   ]
  },
  {
   "cell_type": "code",
   "execution_count": 45,
   "metadata": {},
   "outputs": [
    {
     "data": {
      "text/plain": [
       "((1, 2, 3, 4, 5, 6),\n",
       " ('Excel', 'Python', 'Power-BI', 'Tableau', 'Mysql', 'Maths'))"
      ]
     },
     "execution_count": 45,
     "metadata": {},
     "output_type": "execute_result"
    }
   ],
   "source": [
    "# Take two different lists seperately after combining them\n",
    "nums=[1,2,3,4,5,6,7,8,9,10]\n",
    "First_Course=[\"Excel\",\"Python\",\"Power-BI\",\"Tableau\",\"Mysql\",\"Maths\"]\n",
    "combination1=list(zip(nums,First_Course))\n",
    "index , course=zip(*combination1)\n",
    "index , course"
   ]
  },
  {
   "cell_type": "code",
   "execution_count": 48,
   "metadata": {},
   "outputs": [
    {
     "name": "stdout",
     "output_type": "stream",
     "text": [
      "[1, 2, 3]\n",
      "['a', 'b']\n",
      "4\n"
     ]
    }
   ],
   "source": [
    "nested_arr=[[1,2,3],[\"a\",\"b\"],4]\n",
    "num_arr,char_arr,num=nested_arr\n",
    "print(num_arr)\n",
    "print(char_arr)\n",
    "print(num)"
   ]
  },
  {
   "cell_type": "code",
   "execution_count": 52,
   "metadata": {},
   "outputs": [
    {
     "name": "stdout",
     "output_type": "stream",
     "text": [
      "1\n",
      "4\n",
      "[2, 3]\n"
     ]
    }
   ],
   "source": [
    "# Suggestion: ignore multiplke values while unpacking a python iterable\n",
    "a,*_,b=[1,2,3,4]\n",
    "print(a)\n",
    "print(b)\n",
    "print(_)"
   ]
  }
 ],
 "metadata": {
  "kernelspec": {
   "display_name": "Python 3",
   "language": "python",
   "name": "python3"
  },
  "language_info": {
   "codemirror_mode": {
    "name": "ipython",
    "version": 3
   },
   "file_extension": ".py",
   "mimetype": "text/x-python",
   "name": "python",
   "nbconvert_exporter": "python",
   "pygments_lexer": "ipython3",
   "version": "3.10.11"
  },
  "orig_nbformat": 4
 },
 "nbformat": 4,
 "nbformat_minor": 2
}
